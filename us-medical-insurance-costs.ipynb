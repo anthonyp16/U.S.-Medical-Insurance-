{
 "cells": [
  {
   "cell_type": "markdown",
   "metadata": {},
   "source": [
    "# U.S. Medical Insurance Costs"
   ]
  },
  {
   "cell_type": "markdown",
   "metadata": {},
   "source": [
    "By Paul P.<br>\n",
    "This project was created with the <strong>U.S. Medical Insurance Costs</strong> [dataset](https://www.kaggle.com/mirichoi0218/insurance) <em>(insurance.csv)</em>."
   ]
  },
  {
   "cell_type": "markdown",
   "metadata": {},
   "source": [
    "## Project Scope\n",
    "Questions to be answered:\n",
    "1. Find out the <b>average age</b> of the patients in the dataset.\n",
    "2. Analyze where a <b>majority of the individuals are from</b>.\n",
    "3. Look at the different <b>costs between smokers vs. non-smokers.</b>\n",
    "4. Figure out what the <b>average age is for someone who has at least one child</b> in this dataset.\n",
    "5. Provide insight on <b>how Sex influences insurance costs.</b>"
   ]
  },
  {
   "cell_type": "code",
   "execution_count": 23,
   "metadata": {},
   "outputs": [],
   "source": [
    "import csv"
   ]
  },
  {
   "cell_type": "markdown",
   "metadata": {},
   "source": [
    "## Reading Dataset"
   ]
  },
  {
   "cell_type": "markdown",
   "metadata": {},
   "source": [
    "First, I imported the dataset using a helper function. Since the insurance data is organized in a tabular form, I just have to call `load_list()` each time to store the corresponding data into a list. "
   ]
  },
  {
   "cell_type": "code",
   "execution_count": 24,
   "metadata": {},
   "outputs": [],
   "source": [
    "# creating variable lists\n",
    "age = []\n",
    "sex = []\n",
    "bmi = []\n",
    "children = []\n",
    "smoker = []\n",
    "region = []\n",
    "charges = []\n",
    "\n",
    "# creating a helper function to load the .csv dataset\n",
    "def load_list(var_list, csv_file, column_title):\n",
    "    with open(csv_file) as insurance_data:\n",
    "        data = csv.DictReader(insurance_data)\n",
    "        for row in data:\n",
    "            var_list.append(row[column_title])\n"
   ]
  },
  {
   "cell_type": "markdown",
   "metadata": {},
   "source": [
    "Each column is stored in the appropiate list so we can make our desired calculations."
   ]
  },
  {
   "cell_type": "code",
   "execution_count": 25,
   "metadata": {},
   "outputs": [],
   "source": [
    "load_list(age, 'insurance.csv', 'age')\n",
    "load_list(sex, 'insurance.csv', 'sex')\n",
    "load_list(bmi, 'insurance.csv', 'bmi')\n",
    "load_list(children, 'insurance.csv', 'children')\n",
    "load_list(smoker, 'insurance.csv', 'smoker')\n",
    "load_list(region, 'insurance.csv', 'region')\n",
    "load_list(charges, 'insurance.csv', 'charges')"
   ]
  },
  {
   "cell_type": "markdown",
   "metadata": {},
   "source": [
    "# Analyzing The Data"
   ]
  },
  {
   "cell_type": "markdown",
   "metadata": {},
   "source": [
    "### 1. Average Age\n",
    "The average age patient age is calculated using `average_age()`. The function simply adds all the numerical elements and then divides it by the amount of patients in the list."
   ]
  },
  {
   "cell_type": "code",
   "execution_count": 26,
   "metadata": {},
   "outputs": [],
   "source": [
    "def average_age():\n",
    "    # a variable that stores the sum of all patient ages.\n",
    "    sum = 0\n",
    "    # calculates the length of the list.\n",
    "    length_age = len(age)\n",
    "\n",
    "\n",
    "    for element in age:\n",
    "        # adds the total ages into the variable 'sum'\n",
    "        sum += int(element)\n",
    "\n",
    "    # calculates the average age by dividing the total ages by the length of the list\n",
    "    average_age = sum / length_age\n",
    "    return \"The average patient age is: \" + str(round(average_age, 1)) + \" years.\"\n",
    "\n",
    "    "
   ]
  },
  {
   "cell_type": "code",
   "execution_count": 27,
   "metadata": {},
   "outputs": [
    {
     "data": {
      "text/plain": [
       "'The average patient age is: 39.2 years.'"
      ]
     },
     "execution_count": 27,
     "metadata": {},
     "output_type": "execute_result"
    }
   ],
   "source": [
    "average_age()"
   ]
  },
  {
   "cell_type": "markdown",
   "metadata": {},
   "source": [
    "### 2. Most popular regions\n",
    "The three most frequent regions in our dataset can be calculated with our `popular_regions()` function. "
   ]
  },
  {
   "cell_type": "code",
   "execution_count": 28,
   "metadata": {},
   "outputs": [],
   "source": [
    "def popular_regions():\n",
    "    # create a empty list to store our regions\n",
    "    unique_regions = []\n",
    "\n",
    "    # finds every region and append it to our list\n",
    "    for element in region:\n",
    "        if element not in unique_regions:\n",
    "            unique_regions.append(element)\n",
    "\n",
    "    # create a empty dict to store our regions with number of occurrences\n",
    "    region_occurences = {}\n",
    "\n",
    "    # for each region in our list, assign  a key and number of occurrences\n",
    "    for unique_region in unique_regions: \n",
    "        region_occurences[unique_region] = region.count(unique_region)\n",
    "\n",
    "    # sort our dict\n",
    "    sorted_regions = sorted(region_occurences, key=region_occurences.get, reverse=True)\n",
    "    \n",
    "    return \"The most popular region is {first}. The second most popular region is {second}. The third most popular region is {third}.\" \\\n",
    "    .format(first=sorted_regions[0], second=sorted_regions[1], third=sorted_regions[2])\n"
   ]
  },
  {
   "cell_type": "code",
   "execution_count": 29,
   "metadata": {},
   "outputs": [
    {
     "data": {
      "text/plain": [
       "'The most popular region is southeast. The second most popular region is southwest. The third most popular region is northwest.'"
      ]
     },
     "execution_count": 29,
     "metadata": {},
     "output_type": "execute_result"
    }
   ],
   "source": [
    "popular_regions()"
   ]
  },
  {
   "cell_type": "code",
   "execution_count": 44,
   "metadata": {},
   "outputs": [
    {
     "name": "stdout",
     "output_type": "stream",
     "text": [
      "{'southwest': 325, 'southeast': 364, 'northwest': 325, 'northeast': 324}\n"
     ]
    }
   ],
   "source": [
    "# similar function to above but print only the values\n",
    "unique_regions = []\n",
    "def popular_regions_values():\n",
    "    for element in region:\n",
    "        if element not in unique_regions:\n",
    "            unique_regions.append(element)\n",
    "\n",
    "    region_occurences = {}\n",
    "\n",
    "    for unique_region in unique_regions: \n",
    "        region_occurences[unique_region] = region.count(unique_region)\n",
    "    return region_occurences\n",
    "\n",
    "print(popular_regions_values())\n",
    "\n",
    "\n"
   ]
  },
  {
   "cell_type": "markdown",
   "metadata": {},
   "source": [
    "## 3. Smokers versus non-smokers cost"
   ]
  },
  {
   "cell_type": "markdown",
   "metadata": {},
   "source": [
    "To calculate the average cost for smokers and non-smokers, and the difference between both groups, I will use the **Pandas Library.**\n",
    "\n",
    "First, I seperate the smoker data from the DataFrame. Then I calculate the average of the smokers DataFrame (*smokers_only*) utilizing `mean()`. And finally, we can select our desired *average cost* with `iloc` and print the results."
   ]
  },
  {
   "cell_type": "code",
   "execution_count": 31,
   "metadata": {},
   "outputs": [
    {
     "data": {
      "text/html": [
       "<div>\n",
       "<style scoped>\n",
       "    .dataframe tbody tr th:only-of-type {\n",
       "        vertical-align: middle;\n",
       "    }\n",
       "\n",
       "    .dataframe tbody tr th {\n",
       "        vertical-align: top;\n",
       "    }\n",
       "\n",
       "    .dataframe thead th {\n",
       "        text-align: right;\n",
       "    }\n",
       "</style>\n",
       "<table border=\"1\" class=\"dataframe\">\n",
       "  <thead>\n",
       "    <tr style=\"text-align: right;\">\n",
       "      <th></th>\n",
       "      <th>age</th>\n",
       "      <th>sex</th>\n",
       "      <th>bmi</th>\n",
       "      <th>children</th>\n",
       "      <th>smoker</th>\n",
       "      <th>region</th>\n",
       "      <th>charges</th>\n",
       "    </tr>\n",
       "  </thead>\n",
       "  <tbody>\n",
       "    <tr>\n",
       "      <th>0</th>\n",
       "      <td>19</td>\n",
       "      <td>female</td>\n",
       "      <td>27.900</td>\n",
       "      <td>0</td>\n",
       "      <td>yes</td>\n",
       "      <td>southwest</td>\n",
       "      <td>16884.92400</td>\n",
       "    </tr>\n",
       "    <tr>\n",
       "      <th>1</th>\n",
       "      <td>18</td>\n",
       "      <td>male</td>\n",
       "      <td>33.770</td>\n",
       "      <td>1</td>\n",
       "      <td>no</td>\n",
       "      <td>southeast</td>\n",
       "      <td>1725.55230</td>\n",
       "    </tr>\n",
       "    <tr>\n",
       "      <th>2</th>\n",
       "      <td>28</td>\n",
       "      <td>male</td>\n",
       "      <td>33.000</td>\n",
       "      <td>3</td>\n",
       "      <td>no</td>\n",
       "      <td>southeast</td>\n",
       "      <td>4449.46200</td>\n",
       "    </tr>\n",
       "    <tr>\n",
       "      <th>3</th>\n",
       "      <td>33</td>\n",
       "      <td>male</td>\n",
       "      <td>22.705</td>\n",
       "      <td>0</td>\n",
       "      <td>no</td>\n",
       "      <td>northwest</td>\n",
       "      <td>21984.47061</td>\n",
       "    </tr>\n",
       "    <tr>\n",
       "      <th>4</th>\n",
       "      <td>32</td>\n",
       "      <td>male</td>\n",
       "      <td>28.880</td>\n",
       "      <td>0</td>\n",
       "      <td>no</td>\n",
       "      <td>northwest</td>\n",
       "      <td>3866.85520</td>\n",
       "    </tr>\n",
       "  </tbody>\n",
       "</table>\n",
       "</div>"
      ],
      "text/plain": [
       "   age     sex     bmi  children smoker     region      charges\n",
       "0   19  female  27.900         0    yes  southwest  16884.92400\n",
       "1   18    male  33.770         1     no  southeast   1725.55230\n",
       "2   28    male  33.000         3     no  southeast   4449.46200\n",
       "3   33    male  22.705         0     no  northwest  21984.47061\n",
       "4   32    male  28.880         0     no  northwest   3866.85520"
      ]
     },
     "execution_count": 31,
     "metadata": {},
     "output_type": "execute_result"
    }
   ],
   "source": [
    "# import the pandas library to view the dataset\n",
    "import pandas as pd\n",
    "\n",
    "# import and read the CSV file as a DataFrame\n",
    "df = pd.read_csv('insurance.csv')\n",
    "\n",
    "# print first 5 rows\n",
    "df.head()\n"
   ]
  },
  {
   "cell_type": "markdown",
   "metadata": {},
   "source": [
    "Here I am seperating the smoker data from the DataFrame."
   ]
  },
  {
   "cell_type": "code",
   "execution_count": 32,
   "metadata": {},
   "outputs": [
    {
     "data": {
      "text/html": [
       "<div>\n",
       "<style scoped>\n",
       "    .dataframe tbody tr th:only-of-type {\n",
       "        vertical-align: middle;\n",
       "    }\n",
       "\n",
       "    .dataframe tbody tr th {\n",
       "        vertical-align: top;\n",
       "    }\n",
       "\n",
       "    .dataframe thead th {\n",
       "        text-align: right;\n",
       "    }\n",
       "</style>\n",
       "<table border=\"1\" class=\"dataframe\">\n",
       "  <thead>\n",
       "    <tr style=\"text-align: right;\">\n",
       "      <th></th>\n",
       "      <th>smoker</th>\n",
       "      <th>charges</th>\n",
       "    </tr>\n",
       "  </thead>\n",
       "  <tbody>\n",
       "    <tr>\n",
       "      <th>0</th>\n",
       "      <td>yes</td>\n",
       "      <td>16884.92400</td>\n",
       "    </tr>\n",
       "    <tr>\n",
       "      <th>1</th>\n",
       "      <td>no</td>\n",
       "      <td>1725.55230</td>\n",
       "    </tr>\n",
       "    <tr>\n",
       "      <th>2</th>\n",
       "      <td>no</td>\n",
       "      <td>4449.46200</td>\n",
       "    </tr>\n",
       "    <tr>\n",
       "      <th>3</th>\n",
       "      <td>no</td>\n",
       "      <td>21984.47061</td>\n",
       "    </tr>\n",
       "    <tr>\n",
       "      <th>4</th>\n",
       "      <td>no</td>\n",
       "      <td>3866.85520</td>\n",
       "    </tr>\n",
       "  </tbody>\n",
       "</table>\n",
       "</div>"
      ],
      "text/plain": [
       "  smoker      charges\n",
       "0    yes  16884.92400\n",
       "1     no   1725.55230\n",
       "2     no   4449.46200\n",
       "3     no  21984.47061\n",
       "4     no   3866.85520"
      ]
     },
     "execution_count": 32,
     "metadata": {},
     "output_type": "execute_result"
    }
   ],
   "source": [
    "df_smokers = df[['smoker', 'charges']]\n",
    "\n",
    "# print first 5 rows\n",
    "df_smokers.head()"
   ]
  },
  {
   "cell_type": "code",
   "execution_count": 33,
   "metadata": {},
   "outputs": [
    {
     "data": {
      "text/html": [
       "<div>\n",
       "<style scoped>\n",
       "    .dataframe tbody tr th:only-of-type {\n",
       "        vertical-align: middle;\n",
       "    }\n",
       "\n",
       "    .dataframe tbody tr th {\n",
       "        vertical-align: top;\n",
       "    }\n",
       "\n",
       "    .dataframe thead th {\n",
       "        text-align: right;\n",
       "    }\n",
       "</style>\n",
       "<table border=\"1\" class=\"dataframe\">\n",
       "  <thead>\n",
       "    <tr style=\"text-align: right;\">\n",
       "      <th></th>\n",
       "      <th>Smoker</th>\n",
       "      <th>average Cost</th>\n",
       "    </tr>\n",
       "  </thead>\n",
       "  <tbody>\n",
       "    <tr>\n",
       "      <th>0</th>\n",
       "      <td>no</td>\n",
       "      <td>8434.268298</td>\n",
       "    </tr>\n",
       "    <tr>\n",
       "      <th>1</th>\n",
       "      <td>yes</td>\n",
       "      <td>32050.231832</td>\n",
       "    </tr>\n",
       "  </tbody>\n",
       "</table>\n",
       "</div>"
      ],
      "text/plain": [
       "  Smoker  average Cost\n",
       "0     no   8434.268298\n",
       "1    yes  32050.231832"
      ]
     },
     "execution_count": 33,
     "metadata": {},
     "output_type": "execute_result"
    }
   ],
   "source": [
    "# group by smoker type, then calculate average cost \n",
    "average_smoker = df_smokers.groupby('smoker').charges.mean().reset_index()\n",
    "\n",
    "# rename column title to represent average cost\n",
    "average_smoker.rename(columns={'smoker': 'Smoker', 'charges': 'average Cost'}, inplace=True)\n",
    "\n",
    "# print first 5 rows\n",
    "average_smoker.head()\n"
   ]
  },
  {
   "cell_type": "code",
   "execution_count": 34,
   "metadata": {},
   "outputs": [
    {
     "name": "stdout",
     "output_type": "stream",
     "text": [
      "The average cost for a smoker is $32050.2\n",
      "The average cost for non-smokers is $8434.3\n"
     ]
    }
   ],
   "source": [
    "# assign non-smoker cost in the table to given variable\n",
    "non_smoker_avg = average_smoker.iloc[0, 1]\n",
    "\n",
    "# assignment smoker cost in the table to given variable\n",
    "smoker_avg = average_smoker.iloc[1,1]\n",
    "\n",
    "# print our results\n",
    "print('The average cost for a smoker is ${smoker}'.format(smoker=smoker_avg.round(1)))\n",
    "print('The average cost for non-smokers is ${non_smoker}'.format(non_smoker=non_smoker_avg.round(1)))"
   ]
  },
  {
   "cell_type": "markdown",
   "metadata": {},
   "source": [
    "## 4. Average age with someone with atleast one child"
   ]
  },
  {
   "cell_type": "markdown",
   "metadata": {},
   "source": [
    "To calculate the average age for someone with at least one child, I will again use the **Pandas Library**. We will simply use `mean()` from **pandas** for someone who has greater than 0 children."
   ]
  },
  {
   "cell_type": "code",
   "execution_count": 35,
   "metadata": {},
   "outputs": [
    {
     "data": {
      "text/html": [
       "<div>\n",
       "<style scoped>\n",
       "    .dataframe tbody tr th:only-of-type {\n",
       "        vertical-align: middle;\n",
       "    }\n",
       "\n",
       "    .dataframe tbody tr th {\n",
       "        vertical-align: top;\n",
       "    }\n",
       "\n",
       "    .dataframe thead th {\n",
       "        text-align: right;\n",
       "    }\n",
       "</style>\n",
       "<table border=\"1\" class=\"dataframe\">\n",
       "  <thead>\n",
       "    <tr style=\"text-align: right;\">\n",
       "      <th></th>\n",
       "      <th>age</th>\n",
       "      <th>children</th>\n",
       "    </tr>\n",
       "  </thead>\n",
       "  <tbody>\n",
       "    <tr>\n",
       "      <th>1</th>\n",
       "      <td>18</td>\n",
       "      <td>1</td>\n",
       "    </tr>\n",
       "    <tr>\n",
       "      <th>2</th>\n",
       "      <td>28</td>\n",
       "      <td>3</td>\n",
       "    </tr>\n",
       "    <tr>\n",
       "      <th>6</th>\n",
       "      <td>46</td>\n",
       "      <td>1</td>\n",
       "    </tr>\n",
       "    <tr>\n",
       "      <th>7</th>\n",
       "      <td>37</td>\n",
       "      <td>3</td>\n",
       "    </tr>\n",
       "    <tr>\n",
       "      <th>8</th>\n",
       "      <td>37</td>\n",
       "      <td>2</td>\n",
       "    </tr>\n",
       "  </tbody>\n",
       "</table>\n",
       "</div>"
      ],
      "text/plain": [
       "   age  children\n",
       "1   18         1\n",
       "2   28         3\n",
       "6   46         1\n",
       "7   37         3\n",
       "8   37         2"
      ]
     },
     "execution_count": 35,
     "metadata": {},
     "output_type": "execute_result"
    }
   ],
   "source": [
    "# select our desired subset\n",
    "df_children = df[['age', 'children']]\n",
    "\n",
    "# only include people who have at least 1 child\n",
    "df_children = df_children[df_children.children > 0]\n",
    "\n",
    "# print first 5 rows\n",
    "df_children.head()"
   ]
  },
  {
   "cell_type": "code",
   "execution_count": 36,
   "metadata": {},
   "outputs": [
    {
     "name": "stdout",
     "output_type": "stream",
     "text": [
      "The average age for someone with at least one child is 39.8\n"
     ]
    }
   ],
   "source": [
    "# assign the average age of someone to given variable \n",
    "average_age = df_children.age.mean()\n",
    "\n",
    "# print results\n",
    "print('The average age for someone with at least one child is {age}'.format(age = round(average_age, 1)))"
   ]
  },
  {
   "cell_type": "markdown",
   "metadata": {},
   "source": [
    "## 5. Influence of Sex on insurance costs"
   ]
  },
  {
   "cell_type": "markdown",
   "metadata": {},
   "source": [
    "To provide insight on the influece of Sex on insurance costs, we will again use **pandas**. This time we will use the very useful, `agg()`. Aggregate will provide us with the mean, minimum, and max for insurance costs grouped by Sex."
   ]
  },
  {
   "cell_type": "code",
   "execution_count": 47,
   "metadata": {},
   "outputs": [
    {
     "data": {
      "text/html": [
       "<div>\n",
       "<style scoped>\n",
       "    .dataframe tbody tr th:only-of-type {\n",
       "        vertical-align: middle;\n",
       "    }\n",
       "\n",
       "    .dataframe tbody tr th {\n",
       "        vertical-align: top;\n",
       "    }\n",
       "\n",
       "    .dataframe thead th {\n",
       "        text-align: right;\n",
       "    }\n",
       "</style>\n",
       "<table border=\"1\" class=\"dataframe\">\n",
       "  <thead>\n",
       "    <tr style=\"text-align: right;\">\n",
       "      <th></th>\n",
       "      <th>sex</th>\n",
       "      <th>cost_mean</th>\n",
       "      <th>cost_min</th>\n",
       "      <th>cost_max</th>\n",
       "    </tr>\n",
       "  </thead>\n",
       "  <tbody>\n",
       "    <tr>\n",
       "      <th>0</th>\n",
       "      <td>female</td>\n",
       "      <td>12569.578844</td>\n",
       "      <td>1607.5101</td>\n",
       "      <td>63770.42801</td>\n",
       "    </tr>\n",
       "    <tr>\n",
       "      <th>1</th>\n",
       "      <td>male</td>\n",
       "      <td>13956.751178</td>\n",
       "      <td>1121.8739</td>\n",
       "      <td>62592.87309</td>\n",
       "    </tr>\n",
       "  </tbody>\n",
       "</table>\n",
       "</div>"
      ],
      "text/plain": [
       "      sex     cost_mean   cost_min     cost_max\n",
       "0  female  12569.578844  1607.5101  63770.42801\n",
       "1    male  13956.751178  1121.8739  62592.87309"
      ]
     },
     "execution_count": 47,
     "metadata": {},
     "output_type": "execute_result"
    }
   ],
   "source": [
    "# using aggregate to calculate the mean, minimum, and maximum costs\n",
    "cost_per_sex = df.groupby('sex').agg({'charges': ['mean', 'min', 'max']})\n",
    "\n",
    "# rename our colums to represent our table\n",
    "cost_per_sex.columns = ['cost_mean', 'cost_min', 'cost_max']\n",
    "\n",
    "# reset index to default indexing\n",
    "cost_per_sex = cost_per_sex.reset_index()\n",
    "\n",
    "#print first 5 rows\n",
    "cost_per_sex.head()"
   ]
  },
  {
   "cell_type": "code",
   "execution_count": 38,
   "metadata": {},
   "outputs": [
    {
     "name": "stdout",
     "output_type": "stream",
     "text": [
      "The average cost for female insurance cost is $12569.58. The average cost for male insurance cost is $13956.75. The minimum cost for females is $1607.51. The max cost for females is $13956.75. The minimum cost for males is $1121.87. The max cost for males is $62592.87.\n"
     ]
    }
   ],
   "source": [
    "# round dataset\n",
    "sex_agg = cost_per_sex.round(2)\n",
    "\n",
    "# print our results\n",
    "print('The average cost for female insurance cost is ${}. The average cost for male insurance cost is ${}. \\\n",
    "The minimum cost for females is ${}. The max cost for females is ${}. \\\n",
    "The minimum cost for males is ${}. The max cost for males is ${}.'.\\\n",
    "format(sex_agg.iloc[0,1], sex_agg.iloc[1,1], sex_agg.iloc[0,2], sex_agg.iloc[1,1], sex_agg.iloc[1,2], sex_agg.iloc[1,3]))"
   ]
  },
  {
   "cell_type": "markdown",
   "metadata": {},
   "source": [
    "Displaying which Sex has a higher medical insurance cost."
   ]
  },
  {
   "cell_type": "code",
   "execution_count": 39,
   "metadata": {},
   "outputs": [
    {
     "name": "stdout",
     "output_type": "stream",
     "text": [
      "The average cost of medical insurance is $1387.17 higher for males than females.\n"
     ]
    }
   ],
   "source": [
    "# only our average male cost\n",
    "mean_m = sex_agg.iloc[1,1]\n",
    "\n",
    "# only our average female cost\n",
    "mean_f = sex_agg.iloc[0,1]\n",
    "\n",
    "# difference of Sex\n",
    "sex_diff = mean_m-mean_f\n",
    "\n",
    "# print results\n",
    "print('The average cost of medical insurance is ${} higher for males than females.'.format(sex_diff))"
   ]
  }
 ],
 "metadata": {
  "kernelspec": {
   "display_name": "Python 3",
   "language": "python",
   "name": "python3"
  },
  "language_info": {
   "codemirror_mode": {
    "name": "ipython",
    "version": 3
   },
   "file_extension": ".py",
   "mimetype": "text/x-python",
   "name": "python",
   "nbconvert_exporter": "python",
   "pygments_lexer": "ipython3",
   "version": "3.9.7"
  }
 },
 "nbformat": 4,
 "nbformat_minor": 4
}
